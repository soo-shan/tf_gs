{
 "cells": [
  {
   "cell_type": "code",
   "execution_count": 1,
   "metadata": {},
   "outputs": [],
   "source": [
    "import numpy as np\n",
    "rand = np.random.RandomState(42)\n",
    "%matplotlib inline\n",
    "import matplotlib.pyplot as plt\n",
    "import seaborn; seaborn.set() # for plot styling"
   ]
  },
  {
   "cell_type": "code",
   "execution_count": 4,
   "metadata": {},
   "outputs": [
    {
     "data": {
      "text/plain": [
       "array([1, 2, 3, 3, 2, 1, 1, 2, 3])"
      ]
     },
     "execution_count": 4,
     "metadata": {},
     "output_type": "execute_result"
    }
   ],
   "source": [
    "# Concatenation of arrays\n",
    "x = np.array([1,2,3])\n",
    "y = np.array([3,2,1])\n",
    "np.concatenate([x,y,x])"
   ]
  },
  {
   "cell_type": "code",
   "execution_count": 6,
   "metadata": {},
   "outputs": [
    {
     "data": {
      "text/plain": [
       "array([[1, 2, 3],\n",
       "       [4, 5, 6]])"
      ]
     },
     "execution_count": 6,
     "metadata": {},
     "output_type": "execute_result"
    }
   ],
   "source": [
    "grid = np.array([[1,2,3],\n",
    "                [4,5,6]])\n",
    "grid"
   ]
  },
  {
   "cell_type": "code",
   "execution_count": 7,
   "metadata": {},
   "outputs": [
    {
     "data": {
      "text/plain": [
       "array([[1, 2, 3],\n",
       "       [4, 5, 6],\n",
       "       [1, 2, 3],\n",
       "       [4, 5, 6]])"
      ]
     },
     "execution_count": 7,
     "metadata": {},
     "output_type": "execute_result"
    }
   ],
   "source": [
    "np.concatenate([grid,grid])"
   ]
  },
  {
   "cell_type": "code",
   "execution_count": 12,
   "metadata": {
    "scrolled": true
   },
   "outputs": [
    {
     "data": {
      "text/plain": [
       "array([[1, 2, 3, 1, 2, 3],\n",
       "       [4, 5, 6, 4, 5, 6]])"
      ]
     },
     "execution_count": 12,
     "metadata": {},
     "output_type": "execute_result"
    }
   ],
   "source": [
    "np.concatenate([grid,grid], axis = 1)"
   ]
  },
  {
   "cell_type": "code",
   "execution_count": 23,
   "metadata": {
    "scrolled": true
   },
   "outputs": [
    {
     "data": {
      "text/plain": [
       "array([[1, 2, 3],\n",
       "       [9, 8, 7],\n",
       "       [6, 5, 4],\n",
       "       [5, 7, 9]])"
      ]
     },
     "execution_count": 23,
     "metadata": {},
     "output_type": "execute_result"
    }
   ],
   "source": [
    "x = np.array([1,2,3])\n",
    "grid = np.array([[9, 8, 7],\n",
    "                 [6, 5, 4],\n",
    "                 [5, 7, 9]])\n",
    "np.vstack([x,grid]) # shapes 1x3 and 3x3"
   ]
  },
  {
   "cell_type": "code",
   "execution_count": 28,
   "metadata": {},
   "outputs": [
    {
     "data": {
      "text/plain": [
       "array([[1, 9, 8, 7],\n",
       "       [2, 6, 5, 4],\n",
       "       [3, 5, 7, 9]])"
      ]
     },
     "execution_count": 28,
     "metadata": {},
     "output_type": "execute_result"
    }
   ],
   "source": [
    "y = x.reshape(3,1)\n",
    "np.hstack([y,grid]) # shapes 3x1 and 3x3"
   ]
  },
  {
   "cell_type": "code",
   "execution_count": 31,
   "metadata": {},
   "outputs": [
    {
     "data": {
      "text/plain": [
       "array([[[1, 9, 8, 7]],\n",
       "\n",
       "       [[2, 6, 5, 4]],\n",
       "\n",
       "       [[3, 5, 7, 9]]])"
      ]
     },
     "execution_count": 31,
     "metadata": {},
     "output_type": "execute_result"
    }
   ],
   "source": [
    "z = x.reshape(3,1,1)\n",
    "grid_3d = grid.reshape(3,1,3)\n",
    "np.dstack([z,grid_3d]) \n",
    "# all the input array dimensions except for the concatenation axis must match exactly"
   ]
  },
  {
   "cell_type": "code",
   "execution_count": 32,
   "metadata": {},
   "outputs": [
    {
     "name": "stdout",
     "output_type": "stream",
     "text": [
      "[1 2 3] [99 99] [3 2 1]\n"
     ]
    }
   ],
   "source": [
    "# splitting\n",
    "x = [1, 2, 3, 99, 99, 3, 2, 1]\n",
    "x1, x2, x3 = np.split(x, [3, 5])\n",
    "print(x1, x2, x3) # N split points lead to N+1 subarrays"
   ]
  },
  {
   "cell_type": "code",
   "execution_count": 33,
   "metadata": {},
   "outputs": [
    {
     "data": {
      "text/plain": [
       "array([[ 0,  1,  2,  3],\n",
       "       [ 4,  5,  6,  7],\n",
       "       [ 8,  9, 10, 11],\n",
       "       [12, 13, 14, 15]])"
      ]
     },
     "execution_count": 33,
     "metadata": {},
     "output_type": "execute_result"
    }
   ],
   "source": [
    "grid = np.arange(16).reshape(4,4)\n",
    "grid"
   ]
  },
  {
   "cell_type": "code",
   "execution_count": 34,
   "metadata": {},
   "outputs": [
    {
     "name": "stdout",
     "output_type": "stream",
     "text": [
      "[[0 1 2 3]\n",
      " [4 5 6 7]] \n",
      "\n",
      "[[ 8  9 10 11]\n",
      " [12 13 14 15]]\n"
     ]
    }
   ],
   "source": [
    "upper, lower = np.vsplit(grid,[2])\n",
    "print(upper,'\\n')\n",
    "print(lower)"
   ]
  },
  {
   "cell_type": "code",
   "execution_count": 35,
   "metadata": {},
   "outputs": [
    {
     "name": "stdout",
     "output_type": "stream",
     "text": [
      "[[ 0  1]\n",
      " [ 4  5]\n",
      " [ 8  9]\n",
      " [12 13]] \n",
      "\n",
      "[[ 2  3]\n",
      " [ 6  7]\n",
      " [10 11]\n",
      " [14 15]]\n"
     ]
    }
   ],
   "source": [
    "left, right = np.hsplit(grid,[2])\n",
    "print(left,'\\n')\n",
    "print(right)"
   ]
  },
  {
   "cell_type": "code",
   "execution_count": 44,
   "metadata": {},
   "outputs": [
    {
     "name": "stdout",
     "output_type": "stream",
     "text": [
      "[[[9]]\n",
      "\n",
      " [[6]]\n",
      "\n",
      " [[5]]] \n",
      "\n",
      "\n",
      "[[[8 7]]\n",
      "\n",
      " [[5 4]]\n",
      "\n",
      " [[7 9]]]\n"
     ]
    }
   ],
   "source": [
    "one,two = np.dsplit(grid_3d,[1])\n",
    "print(one,'\\n\\n')\n",
    "print(two)\n",
    "# dsplit (depth split) works on 3d or higher arrays "
   ]
  },
  {
   "cell_type": "code",
   "execution_count": 2,
   "metadata": {},
   "outputs": [],
   "source": [
    "# np.ufunc()\n",
    "\n",
    "# Functions that operate element by element on whole arrays."
   ]
  },
  {
   "cell_type": "code",
   "execution_count": 2,
   "metadata": {},
   "outputs": [
    {
     "name": "stdout",
     "output_type": "stream",
     "text": [
      "[1 2 3 4 5]\n",
      "15\n",
      "120\n"
     ]
    }
   ],
   "source": [
    "# reduce function\n",
    "x = np.arange(1,6)\n",
    "print(x)\n",
    "# A reduce repeatedly applies a given operation to the \n",
    "# elements of an array until only a single result remains.\n",
    "print(np.add.reduce(x))\n",
    "print(np.multiply.reduce(x))"
   ]
  },
  {
   "cell_type": "code",
   "execution_count": 4,
   "metadata": {},
   "outputs": [
    {
     "name": "stdout",
     "output_type": "stream",
     "text": [
      "[ 1  3  6 10 15]\n",
      "[  1   2   6  24 120]\n"
     ]
    }
   ],
   "source": [
    "# to store all the intermediate results of the computation, \n",
    "# we can instead use accumulate\n",
    "print(np.add.accumulate(x))\n",
    "print(np.multiply.accumulate(x))"
   ]
  },
  {
   "cell_type": "code",
   "execution_count": 3,
   "metadata": {},
   "outputs": [
    {
     "name": "stdout",
     "output_type": "stream",
     "text": [
      "[1 2 3 4 5]\n",
      "[[ 2  3  4  5  6]\n",
      " [ 3  4  5  6  7]\n",
      " [ 4  5  6  7  8]\n",
      " [ 5  6  7  8  9]\n",
      " [ 6  7  8  9 10]]\n",
      "[[ 1  2  3  4  5]\n",
      " [ 2  4  6  8 10]\n",
      " [ 3  6  9 12 15]\n",
      " [ 4  8 12 16 20]\n",
      " [ 5 10 15 20 25]]\n"
     ]
    }
   ],
   "source": [
    "# any ufunc can compute the output of all pairs of two different inputs using\n",
    "# the outer method.\n",
    "print(x)\n",
    "print(np.add.outer(x,x))\n",
    "print(np.multiply.outer(x,x))"
   ]
  },
  {
   "cell_type": "code",
   "execution_count": 6,
   "metadata": {},
   "outputs": [
    {
     "name": "stdout",
     "output_type": "stream",
     "text": [
      "[0.30441285 0.86667426 0.33488778 0.50803259 0.77194247]\n"
     ]
    },
    {
     "data": {
      "text/plain": [
       "2.785949944527505"
      ]
     },
     "execution_count": 6,
     "metadata": {},
     "output_type": "execute_result"
    }
   ],
   "source": [
    "# Return random floats in the half-open interval [0.0, 1.0).\n",
    "L = np.random.random(5)\n",
    "print(L)\n",
    "np.sum(L) # preferred over sum(L)"
   ]
  },
  {
   "cell_type": "code",
   "execution_count": 7,
   "metadata": {},
   "outputs": [
    {
     "name": "stdout",
     "output_type": "stream",
     "text": [
      "[[ 0  1  2  3]\n",
      " [ 4  5  6  7]\n",
      " [ 8  9 10 11]]\n",
      "[12 15 18 21]\n",
      "[ 3  7 11]\n"
     ]
    }
   ],
   "source": [
    "m = np.arange(12).reshape([3,4])\n",
    "print(m)\n",
    "print(m.sum(axis=0)) # sum over column\n",
    "print(m.max(axis=1)) # operation over row\n",
    "# The axis keyword specifies the dimension of the array that will be collapsed,\n",
    "# rather than the dimension that will be returned .So specifying axis=0 means that the\n",
    "# first axis will be collapsed: for two-dimensional arrays, this means that values within\n",
    "# each column will be aggregated."
   ]
  },
  {
   "cell_type": "code",
   "execution_count": 8,
   "metadata": {},
   "outputs": [
    {
     "name": "stdout",
     "output_type": "stream",
     "text": [
      "a >>> [0 1 2 3 4]\n",
      "b >>> [ 6  7  8  9 10]\n",
      "a+b >>> [ 6  8 10 12 14]\n",
      "a+5 >>> [5 6 7 8 9]\n"
     ]
    }
   ],
   "source": [
    "# Broadcasting\n",
    "a = np.arange(5)\n",
    "b = np.arange(6,11)\n",
    "print('a >>> ',a ,'\\n','b >>> ',b,sep='')\n",
    "print('a+b >>>',a+b)\n",
    "# we can just as easily add a scalar (think of it as a zero-\n",
    "# dimensional array) to an array\n",
    "print('a+5 >>>',a+5) # broadcasting"
   ]
  },
  {
   "cell_type": "code",
   "execution_count": 9,
   "metadata": {},
   "outputs": [
    {
     "data": {
      "text/plain": [
       "array([[1., 1., 1., 1., 1.],\n",
       "       [1., 1., 1., 1., 1.],\n",
       "       [1., 1., 1., 1., 1.]])"
      ]
     },
     "execution_count": 9,
     "metadata": {},
     "output_type": "execute_result"
    }
   ],
   "source": [
    "m = np.ones([3,5])\n",
    "m"
   ]
  },
  {
   "cell_type": "code",
   "execution_count": 10,
   "metadata": {},
   "outputs": [
    {
     "data": {
      "text/plain": [
       "array([[1., 2., 3., 4., 5.],\n",
       "       [1., 2., 3., 4., 5.],\n",
       "       [1., 2., 3., 4., 5.]])"
      ]
     },
     "execution_count": 10,
     "metadata": {},
     "output_type": "execute_result"
    }
   ],
   "source": [
    "m + a\n",
    "# the one-dimensional array a is stretched, or broadcast, across the second\n",
    "# dimension in order to match the shape of M"
   ]
  },
  {
   "cell_type": "code",
   "execution_count": 11,
   "metadata": {},
   "outputs": [
    {
     "name": "stdout",
     "output_type": "stream",
     "text": [
      "[0 1 2]\n",
      "[[0]\n",
      " [1]\n",
      " [2]]\n"
     ]
    }
   ],
   "source": [
    "# broadcasting of both the arrays\n",
    "a = np.arange(3)\n",
    "b = np.arange(3).reshape(3,1)\n",
    "print(a)\n",
    "print(b)"
   ]
  },
  {
   "cell_type": "code",
   "execution_count": 12,
   "metadata": {},
   "outputs": [
    {
     "data": {
      "text/plain": [
       "array([[0, 1, 2],\n",
       "       [1, 2, 3],\n",
       "       [2, 3, 4]])"
      ]
     },
     "execution_count": 12,
     "metadata": {},
     "output_type": "execute_result"
    }
   ],
   "source": [
    "a + b"
   ]
  },
  {
   "attachments": {
    "image.png": {
     "image/png": "[encoded data removed]"
    }
   },
   "cell_type": "markdown",
   "metadata": {},
   "source": [
    "### Broadcasting\n",
    "![image.png](attachment:image.png)\n",
    "\n",
    "Rules of Broadcasting\n",
    "Broadcasting in NumPy follows a strict set of rules to determine the interaction\n",
    "between the two arrays:\n",
    "\n",
    "• Rule 1: If the two arrays differ in their number of dimensions, the shape of the\n",
    "one with fewer dimensions is padded with ones on its leading (left) side.\n",
    "\n",
    "• Rule 2: If the shape of the two arrays does not match in any dimension, the array\n",
    "with shape equal to 1 in that dimension is stretched to match the other shape.\n",
    "\n",
    "• Rule 3: If in any dimension the sizes disagree and neither is equal to 1, an error is\n",
    "raised."
   ]
  },
  {
   "cell_type": "code",
   "execution_count": 4,
   "metadata": {},
   "outputs": [
    {
     "name": "stdout",
     "output_type": "stream",
     "text": [
      "[0.51117053 0.50497348 0.53800289]\n",
      "[0.00000000e+00 0.00000000e+00 5.55111512e-17]\n"
     ]
    }
   ],
   "source": [
    "# centring an array\n",
    "x = np.random.random([10,3])\n",
    "print(x.mean(0))\n",
    "x_centred = x - x.mean(0)\n",
    "print(x_centred.mean(0)) # mean along each column = 0 "
   ]
  },
  {
   "cell_type": "code",
   "execution_count": 6,
   "metadata": {},
   "outputs": [
    {
     "name": "stdout",
     "output_type": "stream",
     "text": [
      "[[0.57151785 0.31150303 0.72920684]\n",
      " [0.87486791 0.08590013 0.76802532]\n",
      " [0.62522148 0.74069348 0.7773096 ]\n",
      " [0.15968614 0.92321262 0.75115722]\n",
      " [0.84057287 0.34963696 0.10056412]\n",
      " [0.40423933 0.05955925 0.77193775]\n",
      " [0.57416563 0.86902238 0.11541379]\n",
      " [0.67131891 0.03611463 0.5288825 ]\n",
      " [0.19893381 0.95453008 0.79229402]\n",
      " [0.19118138 0.71956224 0.04523774]]\n",
      "[[ 0.24198872 -0.5436249   0.62888003]\n",
      " [ 1.45840222 -1.17753747  0.75655609]\n",
      " [ 0.45733672  0.6623402   0.78709257]\n",
      " [-1.40942897  1.17519346  0.70107599]\n",
      " [ 1.32088139 -0.43647389 -1.43875952]\n",
      " [-0.42878699 -1.25155164  0.76942428]\n",
      " [ 0.25260615  1.02292647 -1.38991817]\n",
      " [ 0.64218432 -1.31742774 -0.02999744]\n",
      " [-1.25204842  1.26319114  0.83637712]\n",
      " [-1.28313514  0.60296438 -1.62073095]]\n"
     ]
    }
   ],
   "source": [
    "x_normal = np.divide(np.subtract(x, x.mean(0)), x.std(0))\n",
    "print(x)\n",
    "print(x_normal)"
   ]
  },
  {
   "cell_type": "code",
   "execution_count": 14,
   "metadata": {},
   "outputs": [
    {
     "name": "stdout",
     "output_type": "stream",
     "text": [
      "x < 3 :  [ True  True  True False False False]\n",
      "(2*x) == (x**2):  [ True False  True False False False]\n"
     ]
    }
   ],
   "source": [
    "# Comparision operators\n",
    "x = np.arange(6)\n",
    "print('x < 3 : ',x < 3)\n",
    "print('(2*x) == (x**2): ',(2*x) == (x**2))"
   ]
  },
  {
   "attachments": {
    "image.png": {
     "image/png": "[encoded data removed]"
    }
   },
   "cell_type": "markdown",
   "metadata": {},
   "source": [
    "![image.png](attachment:image.png)"
   ]
  },
  {
   "cell_type": "code",
   "execution_count": 15,
   "metadata": {},
   "outputs": [
    {
     "data": {
      "text/plain": [
       "8"
      ]
     },
     "execution_count": 15,
     "metadata": {},
     "output_type": "execute_result"
    }
   ],
   "source": [
    "rng = np.random.RandomState(0)\n",
    "x = rng.randint(10, size=(3, 4))\n",
    "np.count_nonzero(x < 6)"
   ]
  },
  {
   "cell_type": "code",
   "execution_count": 16,
   "metadata": {},
   "outputs": [
    {
     "data": {
      "text/plain": [
       "8"
      ]
     },
     "execution_count": 16,
     "metadata": {},
     "output_type": "execute_result"
    }
   ],
   "source": [
    "np.sum(x < 6)"
   ]
  },
  {
   "cell_type": "code",
   "execution_count": 17,
   "metadata": {},
   "outputs": [
    {
     "data": {
      "text/plain": [
       "array([4, 2, 2])"
      ]
     },
     "execution_count": 17,
     "metadata": {},
     "output_type": "execute_result"
    }
   ],
   "source": [
    "np.sum(x<6,axis = 1)"
   ]
  },
  {
   "cell_type": "code",
   "execution_count": 18,
   "metadata": {},
   "outputs": [
    {
     "data": {
      "text/plain": [
       "True"
      ]
     },
     "execution_count": 18,
     "metadata": {},
     "output_type": "execute_result"
    }
   ],
   "source": [
    "np.any(x>8)"
   ]
  },
  {
   "cell_type": "code",
   "execution_count": 19,
   "metadata": {},
   "outputs": [
    {
     "data": {
      "text/plain": [
       "array([False, False, False, False])"
      ]
     },
     "execution_count": 19,
     "metadata": {},
     "output_type": "execute_result"
    }
   ],
   "source": [
    "np.all(x>8,axis = 0)"
   ]
  },
  {
   "attachments": {
    "image.png": {
     "image/png": "[encoded data removed]"
    }
   },
   "cell_type": "markdown",
   "metadata": {},
   "source": [
    "![image.png](attachment:image.png)"
   ]
  },
  {
   "cell_type": "code",
   "execution_count": 20,
   "metadata": {},
   "outputs": [
    {
     "data": {
      "text/plain": [
       "array([[5, 0, 3, 3],\n",
       "       [7, 9, 3, 5],\n",
       "       [2, 4, 7, 6]])"
      ]
     },
     "execution_count": 20,
     "metadata": {},
     "output_type": "execute_result"
    }
   ],
   "source": [
    "x"
   ]
  },
  {
   "cell_type": "code",
   "execution_count": 21,
   "metadata": {},
   "outputs": [
    {
     "data": {
      "text/plain": [
       "array([7, 9, 7, 6])"
      ]
     },
     "execution_count": 21,
     "metadata": {},
     "output_type": "execute_result"
    }
   ],
   "source": [
    "#masking\n",
    "x[x>5]"
   ]
  },
  {
   "cell_type": "code",
   "execution_count": 22,
   "metadata": {},
   "outputs": [
    {
     "data": {
      "text/plain": [
       "array([7, 9, 7, 6])"
      ]
     },
     "execution_count": 22,
     "metadata": {},
     "output_type": "execute_result"
    }
   ],
   "source": [
    "x[np.greater(x,5)]"
   ]
  },
  {
   "cell_type": "code",
   "execution_count": 23,
   "metadata": {},
   "outputs": [
    {
     "name": "stdout",
     "output_type": "stream",
     "text": [
      "[51 92 14 71 60 20 82 86 74 74]\n",
      "[71 20 86]\n"
     ]
    }
   ],
   "source": [
    "# fancy indexing\n",
    "# With fancy indexing, the shape of the result reflects the shape of the index arrays\n",
    "# rather than the shape of the array being indexed:\n",
    "\n",
    "x = rand.randint(100, size=10)\n",
    "print(x)\n",
    "ind = [3,5,7]\n",
    "print(x[ind])"
   ]
  },
  {
   "cell_type": "code",
   "execution_count": 24,
   "metadata": {},
   "outputs": [
    {
     "data": {
      "text/plain": [
       "array([[71, 86],\n",
       "       [60, 20]])"
      ]
     },
     "execution_count": 24,
     "metadata": {},
     "output_type": "execute_result"
    }
   ],
   "source": [
    "ind = np.array([[3, 7],\n",
    "                [4, 5]])\n",
    "x[ind]"
   ]
  },
  {
   "cell_type": "code",
   "execution_count": 25,
   "metadata": {},
   "outputs": [
    {
     "data": {
      "text/plain": [
       "array([[ 0,  1,  2,  3],\n",
       "       [ 4,  5,  6,  7],\n",
       "       [ 8,  9, 10, 11]])"
      ]
     },
     "execution_count": 25,
     "metadata": {},
     "output_type": "execute_result"
    }
   ],
   "source": [
    "x = np.arange(12).reshape((3,4))\n",
    "x"
   ]
  },
  {
   "cell_type": "code",
   "execution_count": 26,
   "metadata": {},
   "outputs": [
    {
     "data": {
      "text/plain": [
       "array([ 2,  5, 11])"
      ]
     },
     "execution_count": 26,
     "metadata": {},
     "output_type": "execute_result"
    }
   ],
   "source": [
    "row = np.array([0,1,2])\n",
    "col = np.array([2,1,3])\n",
    "x[row,col]"
   ]
  },
  {
   "cell_type": "code",
   "execution_count": 27,
   "metadata": {},
   "outputs": [
    {
     "data": {
      "text/plain": [
       "array([[2],\n",
       "       [1],\n",
       "       [3]])"
      ]
     },
     "execution_count": 27,
     "metadata": {},
     "output_type": "execute_result"
    }
   ],
   "source": [
    "col_vec = col[:,np.newaxis]\n",
    "col_vec"
   ]
  },
  {
   "cell_type": "code",
   "execution_count": 28,
   "metadata": {},
   "outputs": [
    {
     "data": {
      "text/plain": [
       "array([[ 2,  6, 10],\n",
       "       [ 1,  5,  9],\n",
       "       [ 3,  7, 11]])"
      ]
     },
     "execution_count": 28,
     "metadata": {},
     "output_type": "execute_result"
    }
   ],
   "source": [
    "# fancy indexing follows broadcasting\n",
    "x[row,col_vec]"
   ]
  },
  {
   "cell_type": "code",
   "execution_count": 29,
   "metadata": {},
   "outputs": [
    {
     "name": "stdout",
     "output_type": "stream",
     "text": [
      "[[ 0  1  2  3]\n",
      " [ 4  5  6  7]\n",
      " [ 8  9 10 11]]\n"
     ]
    }
   ],
   "source": [
    "print(x)"
   ]
  },
  {
   "cell_type": "code",
   "execution_count": 30,
   "metadata": {},
   "outputs": [
    {
     "data": {
      "text/plain": [
       "array([10,  8,  9])"
      ]
     },
     "execution_count": 30,
     "metadata": {},
     "output_type": "execute_result"
    }
   ],
   "source": [
    "x[2,[2,0,1]]"
   ]
  },
  {
   "cell_type": "code",
   "execution_count": 31,
   "metadata": {},
   "outputs": [
    {
     "name": "stdout",
     "output_type": "stream",
     "text": [
      "[0 1 2]\n"
     ]
    },
    {
     "data": {
      "text/plain": [
       "array([[0],\n",
       "       [1],\n",
       "       [2]])"
      ]
     },
     "execution_count": 31,
     "metadata": {},
     "output_type": "execute_result"
    }
   ],
   "source": [
    "print(row)\n",
    "row[:,np.newaxis]"
   ]
  },
  {
   "cell_type": "code",
   "execution_count": 32,
   "metadata": {},
   "outputs": [
    {
     "data": {
      "text/plain": [
       "array([[ 0,  2],\n",
       "       [ 4,  6],\n",
       "       [ 8, 10]])"
      ]
     },
     "execution_count": 32,
     "metadata": {},
     "output_type": "execute_result"
    }
   ],
   "source": [
    "mask = np.array([1,0,1,0],dtype=bool)\n",
    "x[row[:,np.newaxis],mask]"
   ]
  },
  {
   "cell_type": "code",
   "execution_count": 33,
   "metadata": {},
   "outputs": [
    {
     "data": {
      "text/plain": [
       "(100, 2)"
      ]
     },
     "execution_count": 33,
     "metadata": {},
     "output_type": "execute_result"
    }
   ],
   "source": [
    "#Selecting Random Points\n",
    "mean = [0,0]\n",
    "cov = [[1,2],\n",
    "      [2,5]]\n",
    "x = rand.multivariate_normal(mean,cov,100)\n",
    "x.shape"
   ]
  },
  {
   "cell_type": "code",
   "execution_count": 34,
   "metadata": {},
   "outputs": [
    {
     "data": {
      "image/png": "[encoded data removed]",
      "text/plain": [
       "<Figure size 432x288 with 1 Axes>"
      ]
     },
     "metadata": {},
     "output_type": "display_data"
    }
   ],
   "source": [
    "plt.scatter(x[:,0],x[:,1]);"
   ]
  },
  {
   "cell_type": "code",
   "execution_count": 35,
   "metadata": {},
   "outputs": [
    {
     "data": {
      "text/plain": [
       "array([32,  3, 14, 41, 53, 19, 57, 55, 30, 89, 64, 87, 15, 34, 46,  6, 90,\n",
       "       52, 49, 96])"
      ]
     },
     "execution_count": 35,
     "metadata": {},
     "output_type": "execute_result"
    }
   ],
   "source": [
    "# choosing 20 random indices with no repeats, and use these indices to select a \n",
    "# portion of the original array\n",
    "\n",
    "indices = np.random.choice(x.shape[0],20,replace = False)\n",
    "indices"
   ]
  },
  {
   "cell_type": "code",
   "execution_count": 36,
   "metadata": {},
   "outputs": [
    {
     "data": {
      "text/plain": [
       "(20, 2)"
      ]
     },
     "execution_count": 36,
     "metadata": {},
     "output_type": "execute_result"
    }
   ],
   "source": [
    "selection =x[indices]\n",
    "selection.shape"
   ]
  },
  {
   "cell_type": "code",
   "execution_count": 37,
   "metadata": {},
   "outputs": [
    {
     "data": {
      "image/png": "[encoded data removed]",
      "text/plain": [
       "<Figure size 432x288 with 1 Axes>"
      ]
     },
     "metadata": {},
     "output_type": "display_data"
    }
   ],
   "source": [
    "plt.scatter(x[:,0],x[:,1],alpha = 0.3)\n",
    "plt.scatter(selection[:,0],selection[:,1],\n",
    "           facecolor = 'none', s=200);"
   ]
  },
  {
   "cell_type": "code",
   "execution_count": 38,
   "metadata": {},
   "outputs": [],
   "source": [
    "# Binning Data\n",
    "np.random.seed(42)\n",
    "x = np.random.randn(100)\n",
    "# compute histogram from hand\n",
    "bins = np.linspace(-5,5,20)\n",
    "counts = np.zeros_like(bins)\n",
    "\n",
    "# find appropriate bin for each x\n",
    "i = np.searchsorted(bins,x)\n",
    "# add 1 for each i in bin\n",
    "np.add.at(counts,i,1)\n",
    "\n",
    "np.split(x,indices_or_sections=)"
   ]
  },
  {
   "cell_type": "code",
   "execution_count": 39,
   "metadata": {},
   "outputs": [
    {
     "data": {
      "image/png": "[encoded data removed]",
      "text/plain": [
       "<Figure size 432x288 with 1 Axes>"
      ]
     },
     "metadata": {},
     "output_type": "display_data"
    }
   ],
   "source": [
    "plt.plot(bins,counts,linestyle='steps');"
   ]
  },
  {
   "cell_type": "code",
   "execution_count": 40,
   "metadata": {},
   "outputs": [
    {
     "data": {
      "image/png": "[encoded data removed]",
      "text/plain": [
       "<Figure size 432x288 with 1 Axes>"
      ]
     },
     "metadata": {},
     "output_type": "display_data"
    }
   ],
   "source": [
    "# histogram function\n",
    "plt.hist(x,bins,histtype='step');"
   ]
  },
  {
   "cell_type": "code",
   "execution_count": 41,
   "metadata": {},
   "outputs": [],
   "source": [
    "# Sorting\n",
    "\n",
    "#selection sort\n",
    "def selection_sort(x):\n",
    "    for i in range(len(x)):\n",
    "        swap = i + np.argmin(x[i:])\n",
    "        (x[i],x[swap]) = (x[swap],x[i])\n",
    "    return x\n"
   ]
  },
  {
   "cell_type": "code",
   "execution_count": 42,
   "metadata": {},
   "outputs": [
    {
     "data": {
      "text/plain": [
       "array([1, 2, 4, 5, 6])"
      ]
     },
     "execution_count": 42,
     "metadata": {},
     "output_type": "execute_result"
    }
   ],
   "source": [
    "x = np.array([2,1,5,4,6])\n",
    "selection_sort(x)"
   ]
  },
  {
   "cell_type": "code",
   "execution_count": 43,
   "metadata": {},
   "outputs": [],
   "source": [
    "# bogosort\n",
    "# repeatedly apply random shuffle and checks if the \n",
    "def bogosort(x):\n",
    "    while np.any(x[:-1]>x[1:]):\n",
    "        np.random.shuffle(x)\n",
    "    return x\n"
   ]
  },
  {
   "cell_type": "code",
   "execution_count": 44,
   "metadata": {},
   "outputs": [
    {
     "data": {
      "text/plain": [
       "array([1, 2, 4, 5, 6])"
      ]
     },
     "execution_count": 44,
     "metadata": {},
     "output_type": "execute_result"
    }
   ],
   "source": [
    "x = np.array([2,1,5,4,6])\n",
    "bogosort(x)"
   ]
  },
  {
   "cell_type": "code",
   "execution_count": 45,
   "metadata": {},
   "outputs": [
    {
     "data": {
      "text/plain": [
       "array([1, 2, 4, 5, 6])"
      ]
     },
     "execution_count": 45,
     "metadata": {},
     "output_type": "execute_result"
    }
   ],
   "source": [
    "# numpy sort function by default uses quick sort\n",
    "x = np.array([2,1,5,4,6])\n",
    "np.sort(x) # returns the sorted array"
   ]
  },
  {
   "cell_type": "code",
   "execution_count": 46,
   "metadata": {},
   "outputs": [
    {
     "name": "stdout",
     "output_type": "stream",
     "text": [
      "[1 2 4 5 6]\n"
     ]
    }
   ],
   "source": [
    "x.sort() # sorts the original array\n",
    "print(x)"
   ]
  },
  {
   "cell_type": "code",
   "execution_count": 47,
   "metadata": {},
   "outputs": [
    {
     "data": {
      "text/plain": [
       "array([1, 0, 3, 2, 4])"
      ]
     },
     "execution_count": 47,
     "metadata": {},
     "output_type": "execute_result"
    }
   ],
   "source": [
    "# return the indices of sorted elements\n",
    "x = np.array([2,1,5,4,6])\n",
    "np.argsort(x)"
   ]
  },
  {
   "cell_type": "code",
   "execution_count": 48,
   "metadata": {},
   "outputs": [
    {
     "name": "stdout",
     "output_type": "stream",
     "text": [
      "[[5 6 9 6 9 2]\n",
      " [1 8 7 9 6 8]\n",
      " [3 3 0 7 2 6]\n",
      " [1 1 6 5 2 8]]\n"
     ]
    }
   ],
   "source": [
    "# sorting along rows or column\n",
    "x = rand.randint(0,10,(4,6))\n",
    "print(x)"
   ]
  },
  {
   "cell_type": "code",
   "execution_count": 49,
   "metadata": {},
   "outputs": [
    {
     "data": {
      "text/plain": [
       "array([[1, 1, 0, 5, 2, 2],\n",
       "       [1, 3, 6, 6, 2, 6],\n",
       "       [3, 6, 7, 7, 6, 8],\n",
       "       [5, 8, 9, 9, 9, 8]])"
      ]
     },
     "execution_count": 49,
     "metadata": {},
     "output_type": "execute_result"
    }
   ],
   "source": [
    "np.sort(x,axis = 0) # along column"
   ]
  },
  {
   "cell_type": "code",
   "execution_count": 50,
   "metadata": {},
   "outputs": [
    {
     "data": {
      "text/plain": [
       "array([2, 1, 3, 4, 6, 5, 7])"
      ]
     },
     "execution_count": 50,
     "metadata": {},
     "output_type": "execute_result"
    }
   ],
   "source": [
    "#partial sort\n",
    "x = np.array([7, 2, 3, 1, 6, 5, 4])\n",
    "np.partition(x, kth=3)\n",
    "# the first three values in the resulting array are the three smallest in the\n",
    "# array, and the remaining array positions contain the remaining values. Within the\n",
    "# two partitions, the elements have arbitrary order"
   ]
  },
  {
   "cell_type": "code",
   "execution_count": 51,
   "metadata": {},
   "outputs": [
    {
     "name": "stdout",
     "output_type": "stream",
     "text": [
      "[[9 5 9 9 5 0]\n",
      " [3 9 5 5 4 0]\n",
      " [7 4 4 6 3 5]\n",
      " [3 2 6 7 3 1]]\n"
     ]
    },
    {
     "data": {
      "text/plain": [
       "array([[0, 5, 5, 9, 9, 9],\n",
       "       [0, 3, 4, 5, 5, 9],\n",
       "       [3, 4, 4, 6, 7, 5],\n",
       "       [1, 2, 3, 7, 6, 3]])"
      ]
     },
     "execution_count": 51,
     "metadata": {},
     "output_type": "execute_result"
    }
   ],
   "source": [
    "x = rand.randint(0,10,(4,6))\n",
    "print(x)\n",
    "np.partition(x,2,axis=1)"
   ]
  },
  {
   "cell_type": "code",
   "execution_count": 52,
   "metadata": {},
   "outputs": [
    {
     "name": "stdout",
     "output_type": "stream",
     "text": [
      "[[0.51630035 0.32295647]\n",
      " [0.79518619 0.27083225]\n",
      " [0.43897142 0.07845638]\n",
      " [0.02535074 0.96264841]\n",
      " [0.83598012 0.69597421]\n",
      " [0.40895294 0.17329432]\n",
      " [0.15643704 0.2502429 ]\n",
      " [0.54922666 0.71459592]\n",
      " [0.66019738 0.2799339 ]\n",
      " [0.95486528 0.73789692]]\n"
     ]
    },
    {
     "data": {
      "image/png": "[encoded data removed]",
      "text/plain": [
       "<Figure size 432x288 with 1 Axes>"
      ]
     },
     "metadata": {},
     "output_type": "display_data"
    }
   ],
   "source": [
    "# K nearest Neighbour\n",
    "x = rand.rand(10,2)\n",
    "print(x)\n",
    "plt.scatter(x[:,0],x[:,1],s=50);"
   ]
  },
  {
   "cell_type": "code",
   "execution_count": 53,
   "metadata": {},
   "outputs": [
    {
     "name": "stdout",
     "output_type": "stream",
     "text": [
      "[[[0.51630035 0.32295647]]\n",
      "\n",
      " [[0.79518619 0.27083225]]\n",
      "\n",
      " [[0.43897142 0.07845638]]\n",
      "\n",
      " [[0.02535074 0.96264841]]\n",
      "\n",
      " [[0.83598012 0.69597421]]\n",
      "\n",
      " [[0.40895294 0.17329432]]\n",
      "\n",
      " [[0.15643704 0.2502429 ]]\n",
      "\n",
      " [[0.54922666 0.71459592]]\n",
      "\n",
      " [[0.66019738 0.2799339 ]]\n",
      "\n",
      " [[0.95486528 0.73789692]]]\n",
      "(10, 1, 2)\n"
     ]
    }
   ],
   "source": [
    "y = x[:,np.newaxis,:]\n",
    "print(y)\n",
    "print(y.shape)\n",
    "# How to read dimensions\n",
    "# For highest dimension count the number of items in innermost brackets\n",
    "# For 2nd highest dim count the number of single bracketted items inside two bracketted items"
   ]
  },
  {
   "cell_type": "code",
   "execution_count": 54,
   "metadata": {},
   "outputs": [
    {
     "data": {
      "text/plain": [
       "(10, 10, 2)"
      ]
     },
     "execution_count": 54,
     "metadata": {},
     "output_type": "execute_result"
    }
   ],
   "source": [
    "# For each pair calculate difference between them\n",
    "# original matrix: 3x2, 3 points in 2D\n",
    "# algo:\n",
    "# first matrix:  3x1x2 (row matrix with number of dim of space)\n",
    "# Second matrix: 1x3x2 (column vector with number of dim of space)(vector got transposed)\n",
    "# broadcasting with change both to 3x3x2\n",
    "difference = x[:,np.newaxis,:] - x[np.newaxis,:,:]\n",
    "difference.shape"
   ]
  },
  {
   "cell_type": "code",
   "execution_count": 55,
   "metadata": {},
   "outputs": [
    {
     "data": {
      "text/plain": [
       "(10, 10, 2)"
      ]
     },
     "execution_count": 55,
     "metadata": {},
     "output_type": "execute_result"
    }
   ],
   "source": [
    "# square the coordinate differences\n",
    "sq_difference = np.square(difference)\n",
    "sq_difference.shape"
   ]
  },
  {
   "cell_type": "code",
   "execution_count": 56,
   "metadata": {},
   "outputs": [
    {
     "data": {
      "text/plain": [
       "(10, 10)"
      ]
     },
     "execution_count": 56,
     "metadata": {},
     "output_type": "execute_result"
    }
   ],
   "source": [
    "# sum the coordinate differences to get squared distance\n",
    "# sum along the highest dimension which is also the dimension of space(2D in this case)\n",
    "dist_sq = sq_difference.sum(axis=-1)\n",
    "dist_sq.shape"
   ]
  },
  {
   "cell_type": "code",
   "execution_count": 57,
   "metadata": {},
   "outputs": [
    {
     "name": "stdout",
     "output_type": "stream",
     "text": [
      "[0. 0. 0. 0. 0. 0. 0. 0. 0. 0.]\n",
      "[[0.   0.08 0.07 0.65 0.24 0.03 0.13 0.15 0.02 0.36]\n",
      " [0.08 0.   0.16 1.07 0.18 0.16 0.41 0.26 0.02 0.24]\n",
      " [0.07 0.16 0.   0.95 0.54 0.01 0.11 0.42 0.09 0.7 ]\n",
      " [0.65 1.07 0.95 0.   0.73 0.77 0.52 0.34 0.87 0.91]\n",
      " [0.24 0.18 0.54 0.73 0.   0.46 0.66 0.08 0.2  0.02]\n",
      " [0.03 0.16 0.01 0.77 0.46 0.   0.07 0.31 0.07 0.62]\n",
      " [0.13 0.41 0.11 0.52 0.66 0.07 0.   0.37 0.25 0.88]\n",
      " [0.15 0.26 0.42 0.34 0.08 0.31 0.37 0.   0.2  0.17]\n",
      " [0.02 0.02 0.09 0.87 0.2  0.07 0.25 0.2  0.   0.3 ]\n",
      " [0.36 0.24 0.7  0.91 0.02 0.62 0.88 0.17 0.3  0.  ]]\n"
     ]
    }
   ],
   "source": [
    "# Validate by checking diagonal matrix\n",
    "print(dist_sq.diagonal())\n",
    "print(np.round(dist_sq,2))"
   ]
  },
  {
   "cell_type": "code",
   "execution_count": 58,
   "metadata": {},
   "outputs": [
    {
     "name": "stdout",
     "output_type": "stream",
     "text": [
      "[[0 8 5 2 1 6 7 4 9 3]\n",
      " [1 8 0 5 2 4 9 7 6 3]\n",
      " [2 5 0 8 6 1 7 4 9 3]\n",
      " [3 7 6 0 4 5 8 9 2 1]\n",
      " [4 9 7 1 8 0 5 2 6 3]\n",
      " [5 2 0 6 8 1 7 4 9 3]\n",
      " [6 5 2 0 8 7 1 3 4 9]\n",
      " [7 4 0 9 8 1 5 3 6 2]\n",
      " [8 1 0 5 2 7 4 6 9 3]\n",
      " [9 4 7 1 8 0 5 2 6 3]]\n"
     ]
    }
   ],
   "source": [
    "nearest = np.argsort(dist_sq,axis=1)\n",
    "print(nearest)\n",
    "# first column is the point itself\n",
    "# argsort gives the argument for sorted list"
   ]
  },
  {
   "cell_type": "code",
   "execution_count": 59,
   "metadata": {},
   "outputs": [
    {
     "name": "stdout",
     "output_type": "stream",
     "text": [
      "[[0 5 8 2 1 6 7 4 3 9]\n",
      " [8 1 0 5 2 4 6 7 3 9]\n",
      " [2 5 0 8 6 1 7 4 3 9]\n",
      " [7 3 6 0 4 5 1 2 8 9]\n",
      " [4 9 7 1 8 0 5 6 3 2]\n",
      " [2 5 0 6 8 1 7 4 3 9]\n",
      " [6 5 2 0 8 7 1 3 4 9]\n",
      " [7 4 0 9 8 5 1 3 2 6]\n",
      " [8 1 0 5 2 7 4 6 3 9]\n",
      " [9 4 7 1 8 0 5 6 3 2]]\n"
     ]
    }
   ],
   "source": [
    "# Using arg\n",
    "k = 2\n",
    "nearest_partition = np.argpartition(dist_sq,k+1,axis =1)\n",
    "print(nearest_partition)"
   ]
  },
  {
   "cell_type": "code",
   "execution_count": 60,
   "metadata": {},
   "outputs": [
    {
     "data": {
      "image/png": "[encoded data removed]",
      "text/plain": [
       "<Figure size 432x288 with 1 Axes>"
      ]
     },
     "metadata": {},
     "output_type": "display_data"
    }
   ],
   "source": [
    "plt.scatter(x[:,0],x[:,1],s=50)\n",
    "k=2\n",
    "for i in range(x.shape[0]):\n",
    "    for j in nearest_partition[i,:k+1]:\n",
    "        plt.plot(*zip(x[j],x[i]),color='black')"
   ]
  },
  {
   "cell_type": "code",
   "execution_count": 71,
   "metadata": {},
   "outputs": [],
   "source": [
    "# Structured Numpy data\n",
    "name = ['Alice', 'Bob', 'Cathy', 'Doug']\n",
    "age = [25, 45, 37, 19]\n",
    "weight = [55.0, 85.5, 68.0, 61.5]"
   ]
  },
  {
   "cell_type": "code",
   "execution_count": 82,
   "metadata": {},
   "outputs": [
    {
     "name": "stdout",
     "output_type": "stream",
     "text": [
      "[('name', '<U10'), ('age', '<i4'), ('weight', '<f8')]\n"
     ]
    }
   ],
   "source": [
    "data = np.zeros(4, dtype={'names':['name','age','weight'],\n",
    "                          'formats': ['U10','i4','f8']})\n",
    "print(data.dtype)\n",
    "# 'U10'  translates  to  “Unicode  string  of  maximum  length  10,”  \n",
    "# 'i4'  translates  to “4-byte  (i.e.,  32  bit)  integer,”  and  \n",
    "# 'f8'  translates  to  “8-byte  (i.e.,  64  bit)  float.”"
   ]
  },
  {
   "cell_type": "code",
   "execution_count": 91,
   "metadata": {},
   "outputs": [
    {
     "name": "stdout",
     "output_type": "stream",
     "text": [
      "[('Alice', 25, 55. ) ('Bob', 45, 85.5) ('Cathy', 37, 68. )\n",
      " ('Doug', 19, 61.5)]\n",
      "['Alice' 'Bob' 'Cathy' 'Doug']\n",
      "19\n"
     ]
    }
   ],
   "source": [
    "data['name'] = name\n",
    "data['age']= age\n",
    "data['weight'] =  weight\n",
    "print(data)\n",
    "print(data['name'])\n",
    "print(data[-1]['age'])  # age of last row element"
   ]
  },
  {
   "cell_type": "code",
   "execution_count": 92,
   "metadata": {},
   "outputs": [
    {
     "data": {
      "text/plain": [
       "array(['Bob', 'Cathy'], dtype='<U10')"
      ]
     },
     "execution_count": 92,
     "metadata": {},
     "output_type": "execute_result"
    }
   ],
   "source": [
    "# name with age gt than 30\n",
    "data[data['age']>30]['name']"
   ]
  },
  {
   "cell_type": "code",
   "execution_count": 93,
   "metadata": {},
   "outputs": [
    {
     "data": {
      "text/plain": [
       "dtype([('name', 'S10'), ('age', '<i4'), ('weight', '<f8')])"
      ]
     },
     "execution_count": 93,
     "metadata": {},
     "output_type": "execute_result"
    }
   ],
   "source": [
    "# alternate ways to create structured arrays\n",
    "# compound type as list of tuples\n",
    "np.dtype([('name','S10'),('age','i4'),('weight','f8')])"
   ]
  },
  {
   "cell_type": "code",
   "execution_count": 95,
   "metadata": {},
   "outputs": [
    {
     "data": {
      "text/plain": [
       "dtype([('f0', 'S10'), ('f1', '<i4'), ('f2', '<f8')])"
      ]
     },
     "execution_count": 95,
     "metadata": {},
     "output_type": "execute_result"
    }
   ],
   "source": [
    "np.dtype('S10,i4,f8') # without type names"
   ]
  },
  {
   "attachments": {
    "image.png": {
     "image/png": "[encoded data removed]"
    }
   },
   "cell_type": "markdown",
   "metadata": {},
   "source": [
    "![image.png](attachment:image.png)"
   ]
  },
  {
   "cell_type": "code",
   "execution_count": 103,
   "metadata": {},
   "outputs": [
    {
     "name": "stdout",
     "output_type": "stream",
     "text": [
      "[(0, [[0., 0., 0.], [0., 0., 0.], [0., 0., 0.]])\n",
      " (0, [[0., 0., 0.], [0., 0., 0.], [0., 0., 0.]])\n",
      " (0, [[0., 0., 0.], [0., 0., 0.], [0., 0., 0.]])]\n",
      "(0, [[0., 0., 0.], [0., 0., 0.], [0., 0., 0.]])\n",
      "[[0. 0. 0.]\n",
      " [0. 0. 0.]\n",
      " [0. 0. 0.]]\n"
     ]
    }
   ],
   "source": [
    "tp = np.dtype([('id','i8'),('mat','f8',(3,3))]) # 3x3 floatpoint matrix\n",
    "x = np.zeros(3,dtype =tp)\n",
    "print(x)\n",
    "print(x[0])\n",
    "print(x['mat'][0])"
   ]
  },
  {
   "cell_type": "code",
   "execution_count": null,
   "metadata": {},
   "outputs": [],
   "source": []
  }
 ],
 "metadata": {
  "kernelspec": {
   "display_name": "Python 3",
   "language": "python",
   "name": "python3"
  },
  "language_info": {
   "codemirror_mode": {
    "name": "ipython",
    "version": 3
   },
   "file_extension": ".py",
   "mimetype": "text/x-python",
   "name": "python",
   "nbconvert_exporter": "python",
   "pygments_lexer": "ipython3",
   "version": "3.6.6"
  }
 },
 "nbformat": 4,
 "nbformat_minor": 2
}
