{
 "cells": [
  {
   "cell_type": "code",
   "execution_count": 5,
   "metadata": {},
   "outputs": [],
   "source": [
    "import numpy as np\n",
    "rand = np.random.RandomState(42)"
   ]
  },
  {
   "cell_type": "code",
   "execution_count": 50,
   "metadata": {},
   "outputs": [],
   "source": [
    "# KNN Implementation\n",
    "\n",
    "def knn_custom(points, neighbours):\n",
    "    k = neighbours\n",
    "    if k+1 > points.shape[0]:\n",
    "        print('Number of data points less than number of neighbours')\n",
    "        return\n",
    "    import numpy as np\n",
    "#     print(points)\n",
    "    sq_points = np.square(np.subtract(points[:,np.newaxis,:],points[np.newaxis,:,:]))\n",
    "#     print(sq_points)\n",
    "    distance = np.sum(sq_points,axis = -1)\n",
    "#     print(distance)\n",
    "    nearest = np.argpartition(distance, k+1,axis = 1)\n",
    "    k_near = points[nearest][:,:3]\n",
    "    return k_near"
   ]
  },
  {
   "cell_type": "code",
   "execution_count": 56,
   "metadata": {
    "scrolled": true
   },
   "outputs": [],
   "source": [
    "a = rand.randint(low = -15,high = 30, size=[12,15]);"
   ]
  },
  {
   "cell_type": "code",
   "execution_count": 57,
   "metadata": {},
   "outputs": [],
   "source": [
    "knn_custom(a,3);"
   ]
  }
 ],
 "metadata": {
  "kernelspec": {
   "display_name": "Python 3",
   "language": "python",
   "name": "python3"
  },
  "language_info": {
   "codemirror_mode": {
    "name": "ipython",
    "version": 3
   },
   "file_extension": ".py",
   "mimetype": "text/x-python",
   "name": "python",
   "nbconvert_exporter": "python",
   "pygments_lexer": "ipython3",
   "version": "3.6.5"
  }
 },
 "nbformat": 4,
 "nbformat_minor": 2
}
